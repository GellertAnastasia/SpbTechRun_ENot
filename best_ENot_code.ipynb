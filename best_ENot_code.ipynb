{
  "cells": [
    {
      "cell_type": "markdown",
      "id": "775b6833-1b82-4f65-9274-5cafd2d35212",
      "metadata": {
        "id": "775b6833-1b82-4f65-9274-5cafd2d35212"
      },
      "source": [
        "# Install"
      ]
    },
    {
      "cell_type": "code",
      "execution_count": null,
      "id": "8210e4e3-2ee1-4680-9364-609f0186b43d",
      "metadata": {
        "colab": {
          "base_uri": "https://localhost:8080/"
        },
        "id": "8210e4e3-2ee1-4680-9364-609f0186b43d",
        "outputId": "ea6a5004-9df8-459b-e4b5-c4a962b5283d"
      },
      "outputs": [
        {
          "output_type": "stream",
          "name": "stdout",
          "text": [
            "Requirement already satisfied: numpy in /usr/local/lib/python3.10/dist-packages (1.26.4)\n",
            "Requirement already satisfied: pandas in /usr/local/lib/python3.10/dist-packages (2.2.2)\n",
            "Requirement already satisfied: scikit-learn in /usr/local/lib/python3.10/dist-packages (1.5.2)\n",
            "Requirement already satisfied: matplotlib in /usr/local/lib/python3.10/dist-packages (3.8.0)\n",
            "Requirement already satisfied: python-dateutil>=2.8.2 in /usr/local/lib/python3.10/dist-packages (from pandas) (2.8.2)\n",
            "Requirement already satisfied: pytz>=2020.1 in /usr/local/lib/python3.10/dist-packages (from pandas) (2024.2)\n",
            "Requirement already satisfied: tzdata>=2022.7 in /usr/local/lib/python3.10/dist-packages (from pandas) (2024.2)\n",
            "Requirement already satisfied: scipy>=1.6.0 in /usr/local/lib/python3.10/dist-packages (from scikit-learn) (1.13.1)\n",
            "Requirement already satisfied: joblib>=1.2.0 in /usr/local/lib/python3.10/dist-packages (from scikit-learn) (1.4.2)\n",
            "Requirement already satisfied: threadpoolctl>=3.1.0 in /usr/local/lib/python3.10/dist-packages (from scikit-learn) (3.5.0)\n",
            "Requirement already satisfied: contourpy>=1.0.1 in /usr/local/lib/python3.10/dist-packages (from matplotlib) (1.3.1)\n",
            "Requirement already satisfied: cycler>=0.10 in /usr/local/lib/python3.10/dist-packages (from matplotlib) (0.12.1)\n",
            "Requirement already satisfied: fonttools>=4.22.0 in /usr/local/lib/python3.10/dist-packages (from matplotlib) (4.55.0)\n",
            "Requirement already satisfied: kiwisolver>=1.0.1 in /usr/local/lib/python3.10/dist-packages (from matplotlib) (1.4.7)\n",
            "Requirement already satisfied: packaging>=20.0 in /usr/local/lib/python3.10/dist-packages (from matplotlib) (24.2)\n",
            "Requirement already satisfied: pillow>=6.2.0 in /usr/local/lib/python3.10/dist-packages (from matplotlib) (11.0.0)\n",
            "Requirement already satisfied: pyparsing>=2.3.1 in /usr/local/lib/python3.10/dist-packages (from matplotlib) (3.2.0)\n",
            "Requirement already satisfied: six>=1.5 in /usr/local/lib/python3.10/dist-packages (from python-dateutil>=2.8.2->pandas) (1.16.0)\n"
          ]
        }
      ],
      "source": [
        "!pip install numpy pandas scikit-learn matplotlib"
      ]
    },
    {
      "cell_type": "markdown",
      "id": "0a97def9-2fa6-4ec9-8279-116444cdfd8b",
      "metadata": {
        "id": "0a97def9-2fa6-4ec9-8279-116444cdfd8b"
      },
      "source": [
        "# calc_all_metrics"
      ]
    },
    {
      "cell_type": "code",
      "execution_count": 20,
      "id": "I4mX42mI8DPn",
      "metadata": {
        "id": "I4mX42mI8DPn",
        "colab": {
          "base_uri": "https://localhost:8080/"
        },
        "outputId": "ec8dac33-bc32-4447-cc7e-2a40cd4267cd"
      },
      "outputs": [
        {
          "output_type": "stream",
          "name": "stdout",
          "text": [
            "Drive already mounted at /content/drive; to attempt to forcibly remount, call drive.mount(\"/content/drive\", force_remount=True).\n"
          ]
        }
      ],
      "source": [
        "from google.colab import drive\n",
        "drive.mount('/content/drive')"
      ]
    },
    {
      "cell_type": "code",
      "execution_count": 21,
      "id": "cBF2ykRtQf2G",
      "metadata": {
        "id": "cBF2ykRtQf2G"
      },
      "outputs": [],
      "source": [
        "import os\n",
        "\n",
        "from typing import Any, Dict, Tuple\n",
        "\n",
        "import numpy as np\n",
        "import pandas as pd\n",
        "from sklearn.metrics import (\n",
        "    mean_absolute_percentage_error,\n",
        "    mean_squared_log_error,\n",
        "    roc_auc_score\n",
        ")\n",
        "import matplotlib.pyplot as plt"
      ]
    },
    {
      "cell_type": "code",
      "execution_count": 22,
      "id": "9262f92f-d092-40f2-8e88-b911d2d53e81",
      "metadata": {
        "id": "9262f92f-d092-40f2-8e88-b911d2d53e81"
      },
      "outputs": [],
      "source": [
        "\n",
        "def calc_all_metrics(data: Any) -> Dict[str, float]:\n",
        "    def is_credit_issued(x: Any):\n",
        "        ratio = x['__price_predict'] / x['__price_doc']\n",
        "        if x['__priority'] <= 0:\n",
        "            value = 0.0\n",
        "        elif 0.9 < ratio < 1.0:\n",
        "            value = x['__price_predict']\n",
        "        elif 1.0 <= ratio < 1.1:\n",
        "            value = x['__price_doc']\n",
        "        else:\n",
        "            value = 0.0\n",
        "\n",
        "        return value\n",
        "\n",
        "    def calc_profit(x: pd.DataFrame) -> np.array:\n",
        "        if x['is_credit'] == 0.0:\n",
        "            return 0.0\n",
        "        if x['__churn'] == 1:\n",
        "            return -x['debt'] * 2.0\n",
        "        if x['debt'] < 5:\n",
        "            return x['debt'] * 0.3\n",
        "        if x['debt'] < 9:\n",
        "            return x['debt'] * 0.4\n",
        "        if x['debt'] >= 9:\n",
        "            return x['debt'] * 0.5\n",
        "\n",
        "    max_account = 25e3\n",
        "\n",
        "    s = (\n",
        "        data[['__priority', '__churn', '__churn_prob', '__price_doc', '__price_predict']]\n",
        "        .sort_values('__priority', ascending=False)\n",
        "        .copy(True)\n",
        "    )\n",
        "\n",
        "    s['debt'] = s.apply(is_credit_issued, axis=1)\n",
        "    s['debt_cum'] = s['debt'].cumsum()\n",
        "    s['is_credit'] = 0\n",
        "    s.loc[(s['debt'] > 0) & (s['debt_cum'] <= max_account), 'is_credit'] = 1\n",
        "    s['profit'] = s.apply(calc_profit, axis=1)\n",
        "\n",
        "    total_profit = round(s['profit'].sum(), 2)\n",
        "    good_credits_count = int(s['is_credit'].sum())\n",
        "    good_credits_debt = int(s[s['is_credit'] == 1]['debt'].sum())\n",
        "    bad_credits_count = s[s['is_credit'] == 1]['__churn'].sum()\n",
        "\n",
        "    return {\n",
        "        'total_profit': int(total_profit),\n",
        "        'issue_amount': good_credits_debt,\n",
        "        'bad_loans': round(bad_credits_count / (good_credits_count + bad_credits_count) * 100.0, 1),\n",
        "        'churn_auc': round(roc_auc_score(y_true=s['__churn'], y_score=s['__churn_prob']), 3),\n",
        "        'price_nmsle': round(\n",
        "            -mean_squared_log_error(y_true=s['__price_doc'], y_pred=s['__price_predict']),\n",
        "            3,\n",
        "        ),\n",
        "    }\n",
        "\n",
        "\n",
        "METRICS_DESC = {\n",
        "    'total_profit': 'Итоговая полученная прибыль (Ключевая метрика), млн руб.',\n",
        "    'issue_amount': 'Итоговая выданная сумма (25 000 максимум), млн руб.',\n",
        "    'bad_loans': 'Доля выданных кредитов с задолженностью, %',\n",
        "    'churn_auc': 'Метрика ROC AUC по модели предсказания задолженности',\n",
        "    'price_nmsle': 'Метрика Negative Mean Squared Logarithmic Error по модели предсказания стоимости',\n",
        "}"
      ]
    },
    {
      "cell_type": "markdown",
      "id": "2aee06ff-b225-4af9-8495-4fabd2f579aa",
      "metadata": {
        "id": "2aee06ff-b225-4af9-8495-4fabd2f579aa"
      },
      "source": [
        "# Constants"
      ]
    },
    {
      "cell_type": "code",
      "execution_count": 23,
      "id": "7374ded9-af51-4fac-ae1a-4550ed34aef1",
      "metadata": {
        "id": "7374ded9-af51-4fac-ae1a-4550ed34aef1",
        "colab": {
          "base_uri": "https://localhost:8080/",
          "height": 35
        },
        "outputId": "29f8f807-6a0b-4746-89c1-f794b0d0be2d"
      },
      "outputs": [
        {
          "output_type": "execute_result",
          "data": {
            "text/plain": [
              "'/content/drive/MyDrive/challenge-mortgage/data/ENot_2024-12-01_1017.csv'"
            ],
            "application/vnd.google.colaboratory.intrinsic+json": {
              "type": "string"
            }
          },
          "metadata": {},
          "execution_count": 23
        }
      ],
      "source": [
        "import datetime\n",
        "\n",
        "RANDOM_STATE = 47\n",
        "\n",
        "now = datetime.datetime.now().strftime('%Y-%m-%d_%H%M')\n",
        "SUBMISSION_PATH = f'/content/drive/MyDrive/challenge-mortgage/data/ENot_{now}.csv'\n",
        "SUBMISSION_PATH"
      ]
    },
    {
      "cell_type": "markdown",
      "id": "a151e5de-3095-4458-a18e-043000c02fe2",
      "metadata": {
        "id": "a151e5de-3095-4458-a18e-043000c02fe2"
      },
      "source": [
        "# Read datasets"
      ]
    },
    {
      "cell_type": "code",
      "execution_count": 24,
      "id": "f8613b36-7aa0-4522-a734-4cb888372c28",
      "metadata": {
        "colab": {
          "base_uri": "https://localhost:8080/"
        },
        "id": "f8613b36-7aa0-4522-a734-4cb888372c28",
        "outputId": "6980eedb-e87b-409b-d93c-a37461c2f581"
      },
      "outputs": [
        {
          "output_type": "execute_result",
          "data": {
            "text/plain": [
              "((20483, 61), (9988, 59))"
            ]
          },
          "metadata": {},
          "execution_count": 24
        }
      ],
      "source": [
        "data = pd.read_csv('/content/drive/MyDrive/challenge-mortgage/data/train.csv')\n",
        "submission = pd.read_csv('/content/drive/MyDrive/challenge-mortgage/data/test.csv')\n",
        "data.shape, submission.shape"
      ]
    },
    {
      "cell_type": "code",
      "execution_count": null,
      "id": "mgJ0xSBLp70f",
      "metadata": {
        "id": "mgJ0xSBLp70f"
      },
      "outputs": [],
      "source": []
    },
    {
      "cell_type": "markdown",
      "id": "33ef49d1-e92c-4f36-a86b-352d285a7a13",
      "metadata": {
        "id": "33ef49d1-e92c-4f36-a86b-352d285a7a13"
      },
      "source": [
        "# Train / Test split"
      ]
    },
    {
      "cell_type": "code",
      "execution_count": 25,
      "id": "dec69ecc-a917-43b5-97ed-172958bdcf38",
      "metadata": {
        "colab": {
          "base_uri": "https://localhost:8080/"
        },
        "id": "dec69ecc-a917-43b5-97ed-172958bdcf38",
        "outputId": "e986bb58-da59-41a6-801f-cf698725fdf8"
      },
      "outputs": [
        {
          "output_type": "execute_result",
          "data": {
            "text/plain": [
              "((10241, 61), (10242, 61), (9988, 59))"
            ]
          },
          "metadata": {},
          "execution_count": 25
        }
      ],
      "source": [
        "from sklearn.model_selection import train_test_split\n",
        "from sklearn.linear_model import LinearRegression, LogisticRegression\n",
        "\n",
        "\n",
        "train, test = train_test_split(data, test_size=0.5, random_state=RANDOM_STATE)\n",
        "train.shape, test.shape, submission.shape"
      ]
    },
    {
      "cell_type": "markdown",
      "id": "fd214f0a-2c92-49ca-88be-9dacdaaa91bc",
      "metadata": {
        "id": "fd214f0a-2c92-49ca-88be-9dacdaaa91bc"
      },
      "source": [
        "# Prepare features and dataset"
      ]
    },
    {
      "cell_type": "code",
      "execution_count": 27,
      "id": "3fab56f7-72c5-4f9e-a970-e39f0139d40f",
      "metadata": {
        "colab": {
          "base_uri": "https://localhost:8080/"
        },
        "id": "3fab56f7-72c5-4f9e-a970-e39f0139d40f",
        "outputId": "001e56a1-a159-45fb-9092-4b749b652de0"
      },
      "outputs": [
        {
          "output_type": "execute_result",
          "data": {
            "text/plain": [
              "['__churn', '__price_doc']"
            ]
          },
          "metadata": {},
          "execution_count": 27
        }
      ],
      "source": [
        "remove_features = train.columns[train.columns.str.startswith('__')].tolist()\n",
        "remove_features"
      ]
    },
    {
      "cell_type": "code",
      "execution_count": 28,
      "id": "c6689fdc-c7ab-446d-93e6-2b2befc83f6f",
      "metadata": {
        "colab": {
          "base_uri": "https://localhost:8080/"
        },
        "id": "c6689fdc-c7ab-446d-93e6-2b2befc83f6f",
        "outputId": "9a4617e4-8e88-4bd9-c1f6-aaf5df0dff07"
      },
      "outputs": [
        {
          "output_type": "execute_result",
          "data": {
            "text/plain": [
              "39"
            ]
          },
          "metadata": {},
          "execution_count": 28
        }
      ],
      "source": [
        "continuous_features = list(set(train.dtypes[train.dtypes != 'object'].index.tolist())\n",
        "                           - set(remove_features))\n",
        "\n",
        "continuous_features2 = list(set(train.dtypes[train.dtypes != 'object'].index.tolist())\n",
        "                           - set(remove_features))\n",
        "\n",
        "len(continuous_features)"
      ]
    },
    {
      "cell_type": "code",
      "execution_count": 29,
      "id": "06b126c6-24b4-4986-83ae-94de67a7fb28",
      "metadata": {
        "id": "06b126c6-24b4-4986-83ae-94de67a7fb28"
      },
      "outputs": [],
      "source": [
        "X_train = train[continuous_features].fillna(0.)\n",
        "X_test = test[continuous_features].fillna(0.)\n",
        "X_sub = submission[continuous_features].fillna(0.)"
      ]
    },
    {
      "cell_type": "code",
      "source": [
        "import pandas as pd\n",
        "\n",
        "def clean_feature_name(name):\n",
        "    return ''.join(c if c.isalnum() or c == '_' else '_' for c in name)\n",
        "\n",
        "# Предположим, df — это ваш DataFrame\n",
        "data.columns = [clean_feature_name(col) for col in data.columns]"
      ],
      "metadata": {
        "id": "Fxc44na-XN5w"
      },
      "id": "Fxc44na-XN5w",
      "execution_count": 30,
      "outputs": []
    },
    {
      "cell_type": "markdown",
      "id": "9e7f3642-937e-4822-be0d-7d381f96f63a",
      "metadata": {
        "id": "9e7f3642-937e-4822-be0d-7d381f96f63a"
      },
      "source": [
        "# Fit models"
      ]
    },
    {
      "cell_type": "code",
      "execution_count": 31,
      "id": "a49aff8d-5804-4261-b2be-b9f8017e595f",
      "metadata": {
        "colab": {
          "base_uri": "https://localhost:8080/"
        },
        "id": "a49aff8d-5804-4261-b2be-b9f8017e595f",
        "outputId": "74586371-ea62-4042-e711-ff5b526775be"
      },
      "outputs": [
        {
          "output_type": "stream",
          "name": "stdout",
          "text": [
            "[LightGBM] [Info] Auto-choosing row-wise multi-threading, the overhead of testing was 0.001530 seconds.\n",
            "You can set `force_row_wise=true` to remove the overhead.\n",
            "And if memory is not enough, you can set `force_col_wise=true`.\n",
            "[LightGBM] [Info] Total Bins 4968\n",
            "[LightGBM] [Info] Number of data points in the train set: 10241, number of used features: 39\n",
            "[LightGBM] [Info] Start training from score 6.783591\n",
            "       __price_doc  __price_predict\n",
            "15135     4.700000         4.771922\n",
            "5305      5.800000         4.995096\n",
            "11477     4.328140         4.137917\n",
            "615       9.200000         7.786944\n",
            "10674     5.581796         5.927803\n",
            "       __price_predict\n",
            "20408         9.564849\n",
            "6310          8.368296\n",
            "7795          4.290726\n",
            "10308         7.672831\n",
            "19643         4.596409\n",
            "   __price_predict\n",
            "0         8.333478\n",
            "1         5.415152\n",
            "2         5.426103\n",
            "3         3.637653\n",
            "4        16.219056\n"
          ]
        }
      ],
      "source": [
        "import lightgbm as lgb\n",
        "import pandas as pd\n",
        "\n",
        "# Предполагаем, что у вас уже есть DataFrame train, test и submission\n",
        "# Обучение модели LightGBM\n",
        "reg_model = lgb.LGBMRegressor(random_state=RANDOM_STATE)\n",
        "reg_model.fit(X_train, train['__price_doc'])\n",
        "\n",
        "# Получаем предсказания для тренировочного, тестового и отправляемого наборов данных\n",
        "train['__price_predict'] = reg_model.predict(X_train)\n",
        "test['__price_predict'] = reg_model.predict(X_test)\n",
        "submission['__price_predict'] = reg_model.predict(X_sub)\n",
        "\n",
        "# Обработка случаев, когда предсказанная цена ниже 0.1\n",
        "train.loc[train['__price_predict'] < 0.1, '__price_predict'] = 0.1\n",
        "test.loc[test['__price_predict'] < 0.1, '__price_predict'] = 0.1\n",
        "submission.loc[submission['__price_predict'] < 0.1, '__price_predict'] = 0.1\n",
        "\n",
        "# Выводим первые несколько предсказанных значений для проверки\n",
        "print(train[['__price_doc', '__price_predict']].head())\n",
        "print(test[['__price_predict']].head())\n",
        "print(submission[['__price_predict']].head())"
      ]
    },
    {
      "cell_type": "code",
      "execution_count": 32,
      "id": "Qb168cFWeR6N",
      "metadata": {
        "colab": {
          "base_uri": "https://localhost:8080/"
        },
        "id": "Qb168cFWeR6N",
        "outputId": "b00d0ad7-daa5-4ae0-f572-df05122583ea"
      },
      "outputs": [
        {
          "output_type": "stream",
          "name": "stderr",
          "text": [
            "/usr/local/lib/python3.10/dist-packages/sklearn/linear_model/_logistic.py:469: ConvergenceWarning: lbfgs failed to converge (status=1):\n",
            "STOP: TOTAL NO. of ITERATIONS REACHED LIMIT.\n",
            "\n",
            "Increase the number of iterations (max_iter) or scale the data as shown in:\n",
            "    https://scikit-learn.org/stable/modules/preprocessing.html\n",
            "Please also refer to the documentation for alternative solver options:\n",
            "    https://scikit-learn.org/stable/modules/linear_model.html#logistic-regression\n",
            "  n_iter_i = _check_optimize_result(\n"
          ]
        }
      ],
      "source": [
        "import pandas as pd\n",
        "from sklearn.linear_model import LogisticRegression\n",
        "\n",
        "# Предположим, что train — это ваш исходный DataFrame\n",
        "# Выбираем необходимые признаки\n",
        "selected_features = [\n",
        "    'total_revolving_bal', 'credit_limit', 'total_trans_ct', 'avg_utilization_ratio', 'months_inactive_12_mon', 'avg_open_to_buy', 'total_relationship_count'\n",
        "\n",
        "]\n",
        "\n",
        "# Создаем новый DataFrame с выбранными признаками\n",
        "X_train_selected = train[selected_features]\n",
        "\n",
        "# Создаем и обучаем модель логистической регрессии\n",
        "clf_model = LogisticRegression(random_state=RANDOM_STATE)\n",
        "clf_model.fit(X_train_selected, train['__churn'])\n",
        "\n",
        "# Получаем вероятности оттока для тренировочного набора данных\n",
        "train['__churn_prob'] = clf_model.predict_proba(X_train_selected)[:, 1]\n",
        "\n",
        "# Аналогично для тестового набора данных\n",
        "X_test_selected = test[selected_features]\n",
        "\n",
        "test['__churn_prob'] = clf_model.predict_proba(X_test_selected)[:, 1]\n",
        "\n",
        "# И для набора данных для отправки (submission)\n",
        "X_sub_selected = submission[selected_features]\n",
        "\n",
        "submission['__churn_prob'] = clf_model.predict_proba(X_sub_selected)[:, 1]"
      ]
    },
    {
      "cell_type": "code",
      "execution_count": 33,
      "id": "6f60748a-cb04-44e5-a3b5-ce49d1ecb3b7",
      "metadata": {
        "id": "6f60748a-cb04-44e5-a3b5-ce49d1ecb3b7"
      },
      "outputs": [],
      "source": [
        "from sklearn.ensemble import GradientBoostingClassifier\n",
        "clf_model = GradientBoostingClassifier(random_state=RANDOM_STATE)\n",
        "clf_model.fit(X_train, train['__churn'])\n",
        "train['__churn_prob'] = clf_model.predict_proba(X_train)[:, 1]\n",
        "test['__churn_prob'] = clf_model.predict_proba(X_test)[:, 1]\n",
        "submission['__churn_prob'] = clf_model.predict_proba(X_sub)[:, 1]"
      ]
    },
    {
      "cell_type": "markdown",
      "id": "a34a21b9-5c85-4c12-8a7b-da902f638674",
      "metadata": {
        "id": "a34a21b9-5c85-4c12-8a7b-da902f638674"
      },
      "source": [
        "# Select Priority Algorithm"
      ]
    },
    {
      "cell_type": "code",
      "execution_count": 34,
      "id": "b657ed3a-e95f-457b-b5eb-f1c5046ec7c2",
      "metadata": {
        "id": "b657ed3a-e95f-457b-b5eb-f1c5046ec7c2"
      },
      "outputs": [],
      "source": [
        "def alg(x):\n",
        "    \"\"\"\n",
        "    Приоритет в выдаче кредита (от -∞ до +∞)\n",
        "\n",
        "    +∞: максимальный приоритет, решение о выдаче будет рассматриваться первым\n",
        "     0: - минимальный приоритет, решение о выдаче будет рассматриваться последним\n",
        "    -1: - данная сделка не будет рассматриваться\n",
        "    \"\"\"\n",
        "    return ((1-(x['__churn_prob'])- 0.85))\n",
        "\n",
        "\n",
        "train['__priority'] = train.apply(alg, axis=1)\n",
        "test['__priority'] = test.apply(alg, axis=1)\n",
        "submission['__priority'] = submission.apply(alg, axis=1)"
      ]
    },
    {
      "cell_type": "code",
      "source": [
        "train['__churn_prob'].describe()"
      ],
      "metadata": {
        "colab": {
          "base_uri": "https://localhost:8080/",
          "height": 335
        },
        "id": "NIP8ZLjzEeEp",
        "outputId": "7e36b473-d195-46c3-f2f9-0369cb0da1c6"
      },
      "id": "NIP8ZLjzEeEp",
      "execution_count": 35,
      "outputs": [
        {
          "output_type": "execute_result",
          "data": {
            "text/plain": [
              "count    10241.000000\n",
              "mean         0.159578\n",
              "std          0.286316\n",
              "min          0.000883\n",
              "25%          0.003851\n",
              "50%          0.011588\n",
              "75%          0.134316\n",
              "max          0.996296\n",
              "Name: __churn_prob, dtype: float64"
            ],
            "text/html": [
              "<div>\n",
              "<style scoped>\n",
              "    .dataframe tbody tr th:only-of-type {\n",
              "        vertical-align: middle;\n",
              "    }\n",
              "\n",
              "    .dataframe tbody tr th {\n",
              "        vertical-align: top;\n",
              "    }\n",
              "\n",
              "    .dataframe thead th {\n",
              "        text-align: right;\n",
              "    }\n",
              "</style>\n",
              "<table border=\"1\" class=\"dataframe\">\n",
              "  <thead>\n",
              "    <tr style=\"text-align: right;\">\n",
              "      <th></th>\n",
              "      <th>__churn_prob</th>\n",
              "    </tr>\n",
              "  </thead>\n",
              "  <tbody>\n",
              "    <tr>\n",
              "      <th>count</th>\n",
              "      <td>10241.000000</td>\n",
              "    </tr>\n",
              "    <tr>\n",
              "      <th>mean</th>\n",
              "      <td>0.159578</td>\n",
              "    </tr>\n",
              "    <tr>\n",
              "      <th>std</th>\n",
              "      <td>0.286316</td>\n",
              "    </tr>\n",
              "    <tr>\n",
              "      <th>min</th>\n",
              "      <td>0.000883</td>\n",
              "    </tr>\n",
              "    <tr>\n",
              "      <th>25%</th>\n",
              "      <td>0.003851</td>\n",
              "    </tr>\n",
              "    <tr>\n",
              "      <th>50%</th>\n",
              "      <td>0.011588</td>\n",
              "    </tr>\n",
              "    <tr>\n",
              "      <th>75%</th>\n",
              "      <td>0.134316</td>\n",
              "    </tr>\n",
              "    <tr>\n",
              "      <th>max</th>\n",
              "      <td>0.996296</td>\n",
              "    </tr>\n",
              "  </tbody>\n",
              "</table>\n",
              "</div><br><label><b>dtype:</b> float64</label>"
            ]
          },
          "metadata": {},
          "execution_count": 35
        }
      ]
    },
    {
      "cell_type": "markdown",
      "id": "27ad970d-6a39-478b-999b-09f2a55326dc",
      "metadata": {
        "id": "27ad970d-6a39-478b-999b-09f2a55326dc"
      },
      "source": [
        "# Calculate statistics"
      ]
    },
    {
      "cell_type": "code",
      "execution_count": 36,
      "id": "00328958-a781-49a6-baec-cedd2e641329",
      "metadata": {
        "colab": {
          "base_uri": "https://localhost:8080/",
          "height": 300
        },
        "id": "00328958-a781-49a6-baec-cedd2e641329",
        "outputId": "64ffb98f-7ff9-4579-c3c6-b3f4634d26e1"
      },
      "outputs": [
        {
          "output_type": "execute_result",
          "data": {
            "text/plain": [
              "       __price_predict   __price_doc  __churn_prob       __churn\n",
              "count     10241.000000  10241.000000  10241.000000  10241.000000\n",
              "mean          6.783591      6.783591      0.159578      0.159555\n",
              "std           3.620455      4.285971      0.286316      0.366210\n",
              "min           2.083366      0.190000      0.000883      0.000000\n",
              "25%           4.885893      4.582000      0.003851      0.000000\n",
              "50%           5.884699      6.000000      0.011588      0.000000\n",
              "75%           7.336345      7.869400      0.134316      0.000000\n",
              "max          57.867214     77.000000      0.996296      1.000000"
            ],
            "text/html": [
              "\n",
              "  <div id=\"df-b10aefb9-a1da-4108-91ce-8451e92ae95e\" class=\"colab-df-container\">\n",
              "    <div>\n",
              "<style scoped>\n",
              "    .dataframe tbody tr th:only-of-type {\n",
              "        vertical-align: middle;\n",
              "    }\n",
              "\n",
              "    .dataframe tbody tr th {\n",
              "        vertical-align: top;\n",
              "    }\n",
              "\n",
              "    .dataframe thead th {\n",
              "        text-align: right;\n",
              "    }\n",
              "</style>\n",
              "<table border=\"1\" class=\"dataframe\">\n",
              "  <thead>\n",
              "    <tr style=\"text-align: right;\">\n",
              "      <th></th>\n",
              "      <th>__price_predict</th>\n",
              "      <th>__price_doc</th>\n",
              "      <th>__churn_prob</th>\n",
              "      <th>__churn</th>\n",
              "    </tr>\n",
              "  </thead>\n",
              "  <tbody>\n",
              "    <tr>\n",
              "      <th>count</th>\n",
              "      <td>10241.000000</td>\n",
              "      <td>10241.000000</td>\n",
              "      <td>10241.000000</td>\n",
              "      <td>10241.000000</td>\n",
              "    </tr>\n",
              "    <tr>\n",
              "      <th>mean</th>\n",
              "      <td>6.783591</td>\n",
              "      <td>6.783591</td>\n",
              "      <td>0.159578</td>\n",
              "      <td>0.159555</td>\n",
              "    </tr>\n",
              "    <tr>\n",
              "      <th>std</th>\n",
              "      <td>3.620455</td>\n",
              "      <td>4.285971</td>\n",
              "      <td>0.286316</td>\n",
              "      <td>0.366210</td>\n",
              "    </tr>\n",
              "    <tr>\n",
              "      <th>min</th>\n",
              "      <td>2.083366</td>\n",
              "      <td>0.190000</td>\n",
              "      <td>0.000883</td>\n",
              "      <td>0.000000</td>\n",
              "    </tr>\n",
              "    <tr>\n",
              "      <th>25%</th>\n",
              "      <td>4.885893</td>\n",
              "      <td>4.582000</td>\n",
              "      <td>0.003851</td>\n",
              "      <td>0.000000</td>\n",
              "    </tr>\n",
              "    <tr>\n",
              "      <th>50%</th>\n",
              "      <td>5.884699</td>\n",
              "      <td>6.000000</td>\n",
              "      <td>0.011588</td>\n",
              "      <td>0.000000</td>\n",
              "    </tr>\n",
              "    <tr>\n",
              "      <th>75%</th>\n",
              "      <td>7.336345</td>\n",
              "      <td>7.869400</td>\n",
              "      <td>0.134316</td>\n",
              "      <td>0.000000</td>\n",
              "    </tr>\n",
              "    <tr>\n",
              "      <th>max</th>\n",
              "      <td>57.867214</td>\n",
              "      <td>77.000000</td>\n",
              "      <td>0.996296</td>\n",
              "      <td>1.000000</td>\n",
              "    </tr>\n",
              "  </tbody>\n",
              "</table>\n",
              "</div>\n",
              "    <div class=\"colab-df-buttons\">\n",
              "\n",
              "  <div class=\"colab-df-container\">\n",
              "    <button class=\"colab-df-convert\" onclick=\"convertToInteractive('df-b10aefb9-a1da-4108-91ce-8451e92ae95e')\"\n",
              "            title=\"Convert this dataframe to an interactive table.\"\n",
              "            style=\"display:none;\">\n",
              "\n",
              "  <svg xmlns=\"http://www.w3.org/2000/svg\" height=\"24px\" viewBox=\"0 -960 960 960\">\n",
              "    <path d=\"M120-120v-720h720v720H120Zm60-500h600v-160H180v160Zm220 220h160v-160H400v160Zm0 220h160v-160H400v160ZM180-400h160v-160H180v160Zm440 0h160v-160H620v160ZM180-180h160v-160H180v160Zm440 0h160v-160H620v160Z\"/>\n",
              "  </svg>\n",
              "    </button>\n",
              "\n",
              "  <style>\n",
              "    .colab-df-container {\n",
              "      display:flex;\n",
              "      gap: 12px;\n",
              "    }\n",
              "\n",
              "    .colab-df-convert {\n",
              "      background-color: #E8F0FE;\n",
              "      border: none;\n",
              "      border-radius: 50%;\n",
              "      cursor: pointer;\n",
              "      display: none;\n",
              "      fill: #1967D2;\n",
              "      height: 32px;\n",
              "      padding: 0 0 0 0;\n",
              "      width: 32px;\n",
              "    }\n",
              "\n",
              "    .colab-df-convert:hover {\n",
              "      background-color: #E2EBFA;\n",
              "      box-shadow: 0px 1px 2px rgba(60, 64, 67, 0.3), 0px 1px 3px 1px rgba(60, 64, 67, 0.15);\n",
              "      fill: #174EA6;\n",
              "    }\n",
              "\n",
              "    .colab-df-buttons div {\n",
              "      margin-bottom: 4px;\n",
              "    }\n",
              "\n",
              "    [theme=dark] .colab-df-convert {\n",
              "      background-color: #3B4455;\n",
              "      fill: #D2E3FC;\n",
              "    }\n",
              "\n",
              "    [theme=dark] .colab-df-convert:hover {\n",
              "      background-color: #434B5C;\n",
              "      box-shadow: 0px 1px 3px 1px rgba(0, 0, 0, 0.15);\n",
              "      filter: drop-shadow(0px 1px 2px rgba(0, 0, 0, 0.3));\n",
              "      fill: #FFFFFF;\n",
              "    }\n",
              "  </style>\n",
              "\n",
              "    <script>\n",
              "      const buttonEl =\n",
              "        document.querySelector('#df-b10aefb9-a1da-4108-91ce-8451e92ae95e button.colab-df-convert');\n",
              "      buttonEl.style.display =\n",
              "        google.colab.kernel.accessAllowed ? 'block' : 'none';\n",
              "\n",
              "      async function convertToInteractive(key) {\n",
              "        const element = document.querySelector('#df-b10aefb9-a1da-4108-91ce-8451e92ae95e');\n",
              "        const dataTable =\n",
              "          await google.colab.kernel.invokeFunction('convertToInteractive',\n",
              "                                                    [key], {});\n",
              "        if (!dataTable) return;\n",
              "\n",
              "        const docLinkHtml = 'Like what you see? Visit the ' +\n",
              "          '<a target=\"_blank\" href=https://colab.research.google.com/notebooks/data_table.ipynb>data table notebook</a>'\n",
              "          + ' to learn more about interactive tables.';\n",
              "        element.innerHTML = '';\n",
              "        dataTable['output_type'] = 'display_data';\n",
              "        await google.colab.output.renderOutput(dataTable, element);\n",
              "        const docLink = document.createElement('div');\n",
              "        docLink.innerHTML = docLinkHtml;\n",
              "        element.appendChild(docLink);\n",
              "      }\n",
              "    </script>\n",
              "  </div>\n",
              "\n",
              "\n",
              "<div id=\"df-ec8d6e7e-a692-4788-a900-13f625e79202\">\n",
              "  <button class=\"colab-df-quickchart\" onclick=\"quickchart('df-ec8d6e7e-a692-4788-a900-13f625e79202')\"\n",
              "            title=\"Suggest charts\"\n",
              "            style=\"display:none;\">\n",
              "\n",
              "<svg xmlns=\"http://www.w3.org/2000/svg\" height=\"24px\"viewBox=\"0 0 24 24\"\n",
              "     width=\"24px\">\n",
              "    <g>\n",
              "        <path d=\"M19 3H5c-1.1 0-2 .9-2 2v14c0 1.1.9 2 2 2h14c1.1 0 2-.9 2-2V5c0-1.1-.9-2-2-2zM9 17H7v-7h2v7zm4 0h-2V7h2v10zm4 0h-2v-4h2v4z\"/>\n",
              "    </g>\n",
              "</svg>\n",
              "  </button>\n",
              "\n",
              "<style>\n",
              "  .colab-df-quickchart {\n",
              "      --bg-color: #E8F0FE;\n",
              "      --fill-color: #1967D2;\n",
              "      --hover-bg-color: #E2EBFA;\n",
              "      --hover-fill-color: #174EA6;\n",
              "      --disabled-fill-color: #AAA;\n",
              "      --disabled-bg-color: #DDD;\n",
              "  }\n",
              "\n",
              "  [theme=dark] .colab-df-quickchart {\n",
              "      --bg-color: #3B4455;\n",
              "      --fill-color: #D2E3FC;\n",
              "      --hover-bg-color: #434B5C;\n",
              "      --hover-fill-color: #FFFFFF;\n",
              "      --disabled-bg-color: #3B4455;\n",
              "      --disabled-fill-color: #666;\n",
              "  }\n",
              "\n",
              "  .colab-df-quickchart {\n",
              "    background-color: var(--bg-color);\n",
              "    border: none;\n",
              "    border-radius: 50%;\n",
              "    cursor: pointer;\n",
              "    display: none;\n",
              "    fill: var(--fill-color);\n",
              "    height: 32px;\n",
              "    padding: 0;\n",
              "    width: 32px;\n",
              "  }\n",
              "\n",
              "  .colab-df-quickchart:hover {\n",
              "    background-color: var(--hover-bg-color);\n",
              "    box-shadow: 0 1px 2px rgba(60, 64, 67, 0.3), 0 1px 3px 1px rgba(60, 64, 67, 0.15);\n",
              "    fill: var(--button-hover-fill-color);\n",
              "  }\n",
              "\n",
              "  .colab-df-quickchart-complete:disabled,\n",
              "  .colab-df-quickchart-complete:disabled:hover {\n",
              "    background-color: var(--disabled-bg-color);\n",
              "    fill: var(--disabled-fill-color);\n",
              "    box-shadow: none;\n",
              "  }\n",
              "\n",
              "  .colab-df-spinner {\n",
              "    border: 2px solid var(--fill-color);\n",
              "    border-color: transparent;\n",
              "    border-bottom-color: var(--fill-color);\n",
              "    animation:\n",
              "      spin 1s steps(1) infinite;\n",
              "  }\n",
              "\n",
              "  @keyframes spin {\n",
              "    0% {\n",
              "      border-color: transparent;\n",
              "      border-bottom-color: var(--fill-color);\n",
              "      border-left-color: var(--fill-color);\n",
              "    }\n",
              "    20% {\n",
              "      border-color: transparent;\n",
              "      border-left-color: var(--fill-color);\n",
              "      border-top-color: var(--fill-color);\n",
              "    }\n",
              "    30% {\n",
              "      border-color: transparent;\n",
              "      border-left-color: var(--fill-color);\n",
              "      border-top-color: var(--fill-color);\n",
              "      border-right-color: var(--fill-color);\n",
              "    }\n",
              "    40% {\n",
              "      border-color: transparent;\n",
              "      border-right-color: var(--fill-color);\n",
              "      border-top-color: var(--fill-color);\n",
              "    }\n",
              "    60% {\n",
              "      border-color: transparent;\n",
              "      border-right-color: var(--fill-color);\n",
              "    }\n",
              "    80% {\n",
              "      border-color: transparent;\n",
              "      border-right-color: var(--fill-color);\n",
              "      border-bottom-color: var(--fill-color);\n",
              "    }\n",
              "    90% {\n",
              "      border-color: transparent;\n",
              "      border-bottom-color: var(--fill-color);\n",
              "    }\n",
              "  }\n",
              "</style>\n",
              "\n",
              "  <script>\n",
              "    async function quickchart(key) {\n",
              "      const quickchartButtonEl =\n",
              "        document.querySelector('#' + key + ' button');\n",
              "      quickchartButtonEl.disabled = true;  // To prevent multiple clicks.\n",
              "      quickchartButtonEl.classList.add('colab-df-spinner');\n",
              "      try {\n",
              "        const charts = await google.colab.kernel.invokeFunction(\n",
              "            'suggestCharts', [key], {});\n",
              "      } catch (error) {\n",
              "        console.error('Error during call to suggestCharts:', error);\n",
              "      }\n",
              "      quickchartButtonEl.classList.remove('colab-df-spinner');\n",
              "      quickchartButtonEl.classList.add('colab-df-quickchart-complete');\n",
              "    }\n",
              "    (() => {\n",
              "      let quickchartButtonEl =\n",
              "        document.querySelector('#df-ec8d6e7e-a692-4788-a900-13f625e79202 button');\n",
              "      quickchartButtonEl.style.display =\n",
              "        google.colab.kernel.accessAllowed ? 'block' : 'none';\n",
              "    })();\n",
              "  </script>\n",
              "</div>\n",
              "    </div>\n",
              "  </div>\n"
            ],
            "application/vnd.google.colaboratory.intrinsic+json": {
              "type": "dataframe",
              "summary": "{\n  \"name\": \"], axis=1)\",\n  \"rows\": 8,\n  \"fields\": [\n    {\n      \"column\": \"__price_predict\",\n      \"properties\": {\n        \"dtype\": \"number\",\n        \"std\": 3616.319821935668,\n        \"min\": 2.083365914198659,\n        \"max\": 10241.0,\n        \"num_unique_values\": 8,\n        \"samples\": [\n          6.7835908141051044,\n          5.884698674740132,\n          10241.0\n        ],\n        \"semantic_type\": \"\",\n        \"description\": \"\"\n      }\n    },\n    {\n      \"column\": \"__price_doc\",\n      \"properties\": {\n        \"dtype\": \"number\",\n        \"std\": 3615.4391765803016,\n        \"min\": 0.19,\n        \"max\": 10241.0,\n        \"num_unique_values\": 8,\n        \"samples\": [\n          6.783590813983009,\n          6.0,\n          10241.0\n        ],\n        \"semantic_type\": \"\",\n        \"description\": \"\"\n      }\n    },\n    {\n      \"column\": \"__churn_prob\",\n      \"properties\": {\n        \"dtype\": \"number\",\n        \"std\": 3620.659837974455,\n        \"min\": 0.0008831650392624709,\n        \"max\": 10241.0,\n        \"num_unique_values\": 8,\n        \"samples\": [\n          0.15957801152803422,\n          0.011588430864934485,\n          10241.0\n        ],\n        \"semantic_type\": \"\",\n        \"description\": \"\"\n      }\n    },\n    {\n      \"column\": \"__churn\",\n      \"properties\": {\n        \"dtype\": \"number\",\n        \"std\": 3620.6632266004312,\n        \"min\": 0.0,\n        \"max\": 10241.0,\n        \"num_unique_values\": 5,\n        \"samples\": [\n          0.15955473098330242,\n          1.0,\n          0.3662104780261151\n        ],\n        \"semantic_type\": \"\",\n        \"description\": \"\"\n      }\n    }\n  ]\n}"
            }
          },
          "metadata": {},
          "execution_count": 36
        }
      ],
      "source": [
        "pd.concat([\n",
        "    train['__price_predict'].describe(),\n",
        "    train['__price_doc'].describe(),\n",
        "    train['__churn_prob'].describe(),\n",
        "    train['__churn'].describe(),\n",
        "], axis=1)"
      ]
    },
    {
      "cell_type": "markdown",
      "id": "a7ec9477-1cf5-4141-9a79-e81762de08b9",
      "metadata": {
        "id": "a7ec9477-1cf5-4141-9a79-e81762de08b9"
      },
      "source": [
        "# Calculate key metrics"
      ]
    },
    {
      "cell_type": "code",
      "execution_count": 37,
      "id": "28f7b21e-7e4b-4187-a3b8-ddf97ebd7248",
      "metadata": {
        "colab": {
          "base_uri": "https://localhost:8080/",
          "height": 206
        },
        "id": "28f7b21e-7e4b-4187-a3b8-ddf97ebd7248",
        "outputId": "26b81f95-9aff-4a58-e29c-afa07e38aa1d"
      },
      "outputs": [
        {
          "output_type": "execute_result",
          "data": {
            "text/plain": [
              "                  train       test  \\\n",
              "total_profit   9996.000   7789.000   \n",
              "issue_amount  24991.000  21718.000   \n",
              "bad_loans         0.500      1.600   \n",
              "churn_auc         0.979      0.968   \n",
              "price_nmsle      -0.098     -0.145   \n",
              "\n",
              "                                                           desc  \n",
              "total_profit  Итоговая полученная прибыль (Ключевая метрика)...  \n",
              "issue_amount  Итоговая выданная сумма (25 000 максимум), млн...  \n",
              "bad_loans            Доля выданных кредитов с задолженностью, %  \n",
              "churn_auc     Метрика ROC AUC по модели предсказания задолже...  \n",
              "price_nmsle   Метрика Negative Mean Squared Logarithmic Erro...  "
            ],
            "text/html": [
              "\n",
              "  <div id=\"df-a584bf45-8869-4970-85c1-07909b31045b\" class=\"colab-df-container\">\n",
              "    <div>\n",
              "<style scoped>\n",
              "    .dataframe tbody tr th:only-of-type {\n",
              "        vertical-align: middle;\n",
              "    }\n",
              "\n",
              "    .dataframe tbody tr th {\n",
              "        vertical-align: top;\n",
              "    }\n",
              "\n",
              "    .dataframe thead th {\n",
              "        text-align: right;\n",
              "    }\n",
              "</style>\n",
              "<table border=\"1\" class=\"dataframe\">\n",
              "  <thead>\n",
              "    <tr style=\"text-align: right;\">\n",
              "      <th></th>\n",
              "      <th>train</th>\n",
              "      <th>test</th>\n",
              "      <th>desc</th>\n",
              "    </tr>\n",
              "  </thead>\n",
              "  <tbody>\n",
              "    <tr>\n",
              "      <th>total_profit</th>\n",
              "      <td>9996.000</td>\n",
              "      <td>7789.000</td>\n",
              "      <td>Итоговая полученная прибыль (Ключевая метрика)...</td>\n",
              "    </tr>\n",
              "    <tr>\n",
              "      <th>issue_amount</th>\n",
              "      <td>24991.000</td>\n",
              "      <td>21718.000</td>\n",
              "      <td>Итоговая выданная сумма (25 000 максимум), млн...</td>\n",
              "    </tr>\n",
              "    <tr>\n",
              "      <th>bad_loans</th>\n",
              "      <td>0.500</td>\n",
              "      <td>1.600</td>\n",
              "      <td>Доля выданных кредитов с задолженностью, %</td>\n",
              "    </tr>\n",
              "    <tr>\n",
              "      <th>churn_auc</th>\n",
              "      <td>0.979</td>\n",
              "      <td>0.968</td>\n",
              "      <td>Метрика ROC AUC по модели предсказания задолже...</td>\n",
              "    </tr>\n",
              "    <tr>\n",
              "      <th>price_nmsle</th>\n",
              "      <td>-0.098</td>\n",
              "      <td>-0.145</td>\n",
              "      <td>Метрика Negative Mean Squared Logarithmic Erro...</td>\n",
              "    </tr>\n",
              "  </tbody>\n",
              "</table>\n",
              "</div>\n",
              "    <div class=\"colab-df-buttons\">\n",
              "\n",
              "  <div class=\"colab-df-container\">\n",
              "    <button class=\"colab-df-convert\" onclick=\"convertToInteractive('df-a584bf45-8869-4970-85c1-07909b31045b')\"\n",
              "            title=\"Convert this dataframe to an interactive table.\"\n",
              "            style=\"display:none;\">\n",
              "\n",
              "  <svg xmlns=\"http://www.w3.org/2000/svg\" height=\"24px\" viewBox=\"0 -960 960 960\">\n",
              "    <path d=\"M120-120v-720h720v720H120Zm60-500h600v-160H180v160Zm220 220h160v-160H400v160Zm0 220h160v-160H400v160ZM180-400h160v-160H180v160Zm440 0h160v-160H620v160ZM180-180h160v-160H180v160Zm440 0h160v-160H620v160Z\"/>\n",
              "  </svg>\n",
              "    </button>\n",
              "\n",
              "  <style>\n",
              "    .colab-df-container {\n",
              "      display:flex;\n",
              "      gap: 12px;\n",
              "    }\n",
              "\n",
              "    .colab-df-convert {\n",
              "      background-color: #E8F0FE;\n",
              "      border: none;\n",
              "      border-radius: 50%;\n",
              "      cursor: pointer;\n",
              "      display: none;\n",
              "      fill: #1967D2;\n",
              "      height: 32px;\n",
              "      padding: 0 0 0 0;\n",
              "      width: 32px;\n",
              "    }\n",
              "\n",
              "    .colab-df-convert:hover {\n",
              "      background-color: #E2EBFA;\n",
              "      box-shadow: 0px 1px 2px rgba(60, 64, 67, 0.3), 0px 1px 3px 1px rgba(60, 64, 67, 0.15);\n",
              "      fill: #174EA6;\n",
              "    }\n",
              "\n",
              "    .colab-df-buttons div {\n",
              "      margin-bottom: 4px;\n",
              "    }\n",
              "\n",
              "    [theme=dark] .colab-df-convert {\n",
              "      background-color: #3B4455;\n",
              "      fill: #D2E3FC;\n",
              "    }\n",
              "\n",
              "    [theme=dark] .colab-df-convert:hover {\n",
              "      background-color: #434B5C;\n",
              "      box-shadow: 0px 1px 3px 1px rgba(0, 0, 0, 0.15);\n",
              "      filter: drop-shadow(0px 1px 2px rgba(0, 0, 0, 0.3));\n",
              "      fill: #FFFFFF;\n",
              "    }\n",
              "  </style>\n",
              "\n",
              "    <script>\n",
              "      const buttonEl =\n",
              "        document.querySelector('#df-a584bf45-8869-4970-85c1-07909b31045b button.colab-df-convert');\n",
              "      buttonEl.style.display =\n",
              "        google.colab.kernel.accessAllowed ? 'block' : 'none';\n",
              "\n",
              "      async function convertToInteractive(key) {\n",
              "        const element = document.querySelector('#df-a584bf45-8869-4970-85c1-07909b31045b');\n",
              "        const dataTable =\n",
              "          await google.colab.kernel.invokeFunction('convertToInteractive',\n",
              "                                                    [key], {});\n",
              "        if (!dataTable) return;\n",
              "\n",
              "        const docLinkHtml = 'Like what you see? Visit the ' +\n",
              "          '<a target=\"_blank\" href=https://colab.research.google.com/notebooks/data_table.ipynb>data table notebook</a>'\n",
              "          + ' to learn more about interactive tables.';\n",
              "        element.innerHTML = '';\n",
              "        dataTable['output_type'] = 'display_data';\n",
              "        await google.colab.output.renderOutput(dataTable, element);\n",
              "        const docLink = document.createElement('div');\n",
              "        docLink.innerHTML = docLinkHtml;\n",
              "        element.appendChild(docLink);\n",
              "      }\n",
              "    </script>\n",
              "  </div>\n",
              "\n",
              "\n",
              "<div id=\"df-a57fa87d-b0c9-4101-b5ae-0fcad75752f6\">\n",
              "  <button class=\"colab-df-quickchart\" onclick=\"quickchart('df-a57fa87d-b0c9-4101-b5ae-0fcad75752f6')\"\n",
              "            title=\"Suggest charts\"\n",
              "            style=\"display:none;\">\n",
              "\n",
              "<svg xmlns=\"http://www.w3.org/2000/svg\" height=\"24px\"viewBox=\"0 0 24 24\"\n",
              "     width=\"24px\">\n",
              "    <g>\n",
              "        <path d=\"M19 3H5c-1.1 0-2 .9-2 2v14c0 1.1.9 2 2 2h14c1.1 0 2-.9 2-2V5c0-1.1-.9-2-2-2zM9 17H7v-7h2v7zm4 0h-2V7h2v10zm4 0h-2v-4h2v4z\"/>\n",
              "    </g>\n",
              "</svg>\n",
              "  </button>\n",
              "\n",
              "<style>\n",
              "  .colab-df-quickchart {\n",
              "      --bg-color: #E8F0FE;\n",
              "      --fill-color: #1967D2;\n",
              "      --hover-bg-color: #E2EBFA;\n",
              "      --hover-fill-color: #174EA6;\n",
              "      --disabled-fill-color: #AAA;\n",
              "      --disabled-bg-color: #DDD;\n",
              "  }\n",
              "\n",
              "  [theme=dark] .colab-df-quickchart {\n",
              "      --bg-color: #3B4455;\n",
              "      --fill-color: #D2E3FC;\n",
              "      --hover-bg-color: #434B5C;\n",
              "      --hover-fill-color: #FFFFFF;\n",
              "      --disabled-bg-color: #3B4455;\n",
              "      --disabled-fill-color: #666;\n",
              "  }\n",
              "\n",
              "  .colab-df-quickchart {\n",
              "    background-color: var(--bg-color);\n",
              "    border: none;\n",
              "    border-radius: 50%;\n",
              "    cursor: pointer;\n",
              "    display: none;\n",
              "    fill: var(--fill-color);\n",
              "    height: 32px;\n",
              "    padding: 0;\n",
              "    width: 32px;\n",
              "  }\n",
              "\n",
              "  .colab-df-quickchart:hover {\n",
              "    background-color: var(--hover-bg-color);\n",
              "    box-shadow: 0 1px 2px rgba(60, 64, 67, 0.3), 0 1px 3px 1px rgba(60, 64, 67, 0.15);\n",
              "    fill: var(--button-hover-fill-color);\n",
              "  }\n",
              "\n",
              "  .colab-df-quickchart-complete:disabled,\n",
              "  .colab-df-quickchart-complete:disabled:hover {\n",
              "    background-color: var(--disabled-bg-color);\n",
              "    fill: var(--disabled-fill-color);\n",
              "    box-shadow: none;\n",
              "  }\n",
              "\n",
              "  .colab-df-spinner {\n",
              "    border: 2px solid var(--fill-color);\n",
              "    border-color: transparent;\n",
              "    border-bottom-color: var(--fill-color);\n",
              "    animation:\n",
              "      spin 1s steps(1) infinite;\n",
              "  }\n",
              "\n",
              "  @keyframes spin {\n",
              "    0% {\n",
              "      border-color: transparent;\n",
              "      border-bottom-color: var(--fill-color);\n",
              "      border-left-color: var(--fill-color);\n",
              "    }\n",
              "    20% {\n",
              "      border-color: transparent;\n",
              "      border-left-color: var(--fill-color);\n",
              "      border-top-color: var(--fill-color);\n",
              "    }\n",
              "    30% {\n",
              "      border-color: transparent;\n",
              "      border-left-color: var(--fill-color);\n",
              "      border-top-color: var(--fill-color);\n",
              "      border-right-color: var(--fill-color);\n",
              "    }\n",
              "    40% {\n",
              "      border-color: transparent;\n",
              "      border-right-color: var(--fill-color);\n",
              "      border-top-color: var(--fill-color);\n",
              "    }\n",
              "    60% {\n",
              "      border-color: transparent;\n",
              "      border-right-color: var(--fill-color);\n",
              "    }\n",
              "    80% {\n",
              "      border-color: transparent;\n",
              "      border-right-color: var(--fill-color);\n",
              "      border-bottom-color: var(--fill-color);\n",
              "    }\n",
              "    90% {\n",
              "      border-color: transparent;\n",
              "      border-bottom-color: var(--fill-color);\n",
              "    }\n",
              "  }\n",
              "</style>\n",
              "\n",
              "  <script>\n",
              "    async function quickchart(key) {\n",
              "      const quickchartButtonEl =\n",
              "        document.querySelector('#' + key + ' button');\n",
              "      quickchartButtonEl.disabled = true;  // To prevent multiple clicks.\n",
              "      quickchartButtonEl.classList.add('colab-df-spinner');\n",
              "      try {\n",
              "        const charts = await google.colab.kernel.invokeFunction(\n",
              "            'suggestCharts', [key], {});\n",
              "      } catch (error) {\n",
              "        console.error('Error during call to suggestCharts:', error);\n",
              "      }\n",
              "      quickchartButtonEl.classList.remove('colab-df-spinner');\n",
              "      quickchartButtonEl.classList.add('colab-df-quickchart-complete');\n",
              "    }\n",
              "    (() => {\n",
              "      let quickchartButtonEl =\n",
              "        document.querySelector('#df-a57fa87d-b0c9-4101-b5ae-0fcad75752f6 button');\n",
              "      quickchartButtonEl.style.display =\n",
              "        google.colab.kernel.accessAllowed ? 'block' : 'none';\n",
              "    })();\n",
              "  </script>\n",
              "</div>\n",
              "    </div>\n",
              "  </div>\n"
            ],
            "application/vnd.google.colaboratory.intrinsic+json": {
              "type": "dataframe",
              "variable_name": "score",
              "summary": "{\n  \"name\": \"score\",\n  \"rows\": 5,\n  \"fields\": [\n    {\n      \"column\": \"train\",\n      \"properties\": {\n        \"dtype\": \"number\",\n        \"std\": 10950.259554204786,\n        \"min\": -0.098,\n        \"max\": 24991.0,\n        \"num_unique_values\": 5,\n        \"samples\": [\n          24991.0,\n          -0.098,\n          0.5\n        ],\n        \"semantic_type\": \"\",\n        \"description\": \"\"\n      }\n    },\n    {\n      \"column\": \"test\",\n      \"properties\": {\n        \"dtype\": \"number\",\n        \"std\": 9462.806657639465,\n        \"min\": -0.145,\n        \"max\": 21718.0,\n        \"num_unique_values\": 5,\n        \"samples\": [\n          21718.0,\n          -0.145,\n          1.6\n        ],\n        \"semantic_type\": \"\",\n        \"description\": \"\"\n      }\n    },\n    {\n      \"column\": \"desc\",\n      \"properties\": {\n        \"dtype\": \"string\",\n        \"num_unique_values\": 5,\n        \"samples\": [\n          \"\\u0418\\u0442\\u043e\\u0433\\u043e\\u0432\\u0430\\u044f \\u0432\\u044b\\u0434\\u0430\\u043d\\u043d\\u0430\\u044f \\u0441\\u0443\\u043c\\u043c\\u0430 (25 000 \\u043c\\u0430\\u043a\\u0441\\u0438\\u043c\\u0443\\u043c), \\u043c\\u043b\\u043d \\u0440\\u0443\\u0431.\",\n          \"\\u041c\\u0435\\u0442\\u0440\\u0438\\u043a\\u0430 Negative Mean Squared Logarithmic Error \\u043f\\u043e \\u043c\\u043e\\u0434\\u0435\\u043b\\u0438 \\u043f\\u0440\\u0435\\u0434\\u0441\\u043a\\u0430\\u0437\\u0430\\u043d\\u0438\\u044f \\u0441\\u0442\\u043e\\u0438\\u043c\\u043e\\u0441\\u0442\\u0438\",\n          \"\\u0414\\u043e\\u043b\\u044f \\u0432\\u044b\\u0434\\u0430\\u043d\\u043d\\u044b\\u0445 \\u043a\\u0440\\u0435\\u0434\\u0438\\u0442\\u043e\\u0432 \\u0441 \\u0437\\u0430\\u0434\\u043e\\u043b\\u0436\\u0435\\u043d\\u043d\\u043e\\u0441\\u0442\\u044c\\u044e, %\"\n        ],\n        \"semantic_type\": \"\",\n        \"description\": \"\"\n      }\n    }\n  ]\n}"
            }
          },
          "metadata": {},
          "execution_count": 37
        }
      ],
      "source": [
        "score = pd.concat([\n",
        "    pd.Series(calc_all_metrics(train), name='train'),\n",
        "    pd.Series(calc_all_metrics(test), name='test'),\n",
        "], axis=1)\n",
        "\n",
        "# добавляем колонку с описанием метрики\n",
        "score['desc'] = score.index.map(METRICS_DESC)\n",
        "score"
      ]
    },
    {
      "cell_type": "markdown",
      "id": "6f4e0248-4898-4f0d-bb91-c40e392a2004",
      "metadata": {
        "id": "6f4e0248-4898-4f0d-bb91-c40e392a2004"
      },
      "source": [
        "# Submission\n",
        "\n",
        "Файл с результатами вашего решения должен содержать только следующие колонки ['__price_predict', '__churn_prob', '__priority']"
      ]
    },
    {
      "cell_type": "code",
      "execution_count": 38,
      "id": "99064d56-cd2f-4966-b50b-b376954cd88f",
      "metadata": {
        "id": "99064d56-cd2f-4966-b50b-b376954cd88f"
      },
      "outputs": [],
      "source": [
        "mysub = submission[['__price_predict', '__churn_prob', '__priority']]\n",
        "mysub.to_csv(SUBMISSION_PATH, index=False)\n",
        "\n",
        "if mysub.shape != (9988, 3):\n",
        "    raise ValueError('Неправильный размер submission файла')"
      ]
    },
    {
      "cell_type": "code",
      "execution_count": 39,
      "id": "04e16d9c-c356-40bc-81a4-2eb99b57a779",
      "metadata": {
        "colab": {
          "base_uri": "https://localhost:8080/"
        },
        "id": "04e16d9c-c356-40bc-81a4-2eb99b57a779",
        "outputId": "0ed89bc9-39b5-4e02-cfa2-e0fe6a91d827"
      },
      "outputs": [
        {
          "output_type": "stream",
          "name": "stdout",
          "text": [
            "ls: cannot access '../data/submissions/*.csv': No such file or directory\n"
          ]
        }
      ],
      "source": [
        "!ls -lh ../data/submissions/*.csv"
      ]
    },
    {
      "cell_type": "code",
      "execution_count": null,
      "id": "ea047a2f-f53a-4d38-8472-d1c53c04b03d",
      "metadata": {
        "id": "ea047a2f-f53a-4d38-8472-d1c53c04b03d"
      },
      "outputs": [],
      "source": []
    }
  ],
  "metadata": {
    "colab": {
      "provenance": []
    },
    "kernelspec": {
      "display_name": "Python 3 (ipykernel)",
      "language": "python",
      "name": "python3"
    },
    "language_info": {
      "codemirror_mode": {
        "name": "ipython",
        "version": 3
      },
      "file_extension": ".py",
      "mimetype": "text/x-python",
      "name": "python",
      "nbconvert_exporter": "python",
      "pygments_lexer": "ipython3",
      "version": "3.9.18"
    }
  },
  "nbformat": 4,
  "nbformat_minor": 5
}